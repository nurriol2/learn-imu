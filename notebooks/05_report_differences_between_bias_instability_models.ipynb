{
  "nbformat": 4,
  "nbformat_minor": 0,
  "metadata": {
    "colab": {
      "name": "05_report_differences_between_bias_instability_models.ipynb",
      "provenance": [],
      "collapsed_sections": []
    },
    "kernelspec": {
      "name": "python3",
      "display_name": "Python 3"
    },
    "language_info": {
      "name": "python"
    }
  },
  "cells": [
    {
      "cell_type": "markdown",
      "metadata": {
        "id": "DOkAje1l5v4Q"
      },
      "source": [
        "# Differences Between Bias Instability Models\n",
        "\n",
        "**Goal:  Determine which bias instability model best simulates bias instability.** \n",
        "\n",
        "We are interested in comparing three different models:\n",
        "- First Order Markov \n",
        "- MATLAB Model (or Filter Model)\n",
        "- Aceinna Model\n",
        "\n",
        "## First Order Markov\n",
        "We first saw the first order markov model in K. Jerath's Presentation *Noise Modeling of Sensors:  The Allan Variance Method*.\n",
        "\n",
        "Each point $b$ in the simulated time series is calculated from an initial conditon $b_{0}$ according to $\\dot{b} = -\\frac{b}{T_{c}}+\\eta_{b}$. \n",
        "\n",
        "The appeal of the first order markov model is that **correlation time $T_{c}$** is explicitly defined in the model.\n",
        "\n",
        "## MATALB Model (or Filter Model)\n",
        "MATLAB implements bias instability through its `imuSensor` object. This model filters a white noise time series into 1/f noise - also known as bias instability.\n",
        "\n",
        "MATLAB is closed source, so it's not possible (right now) to inspect the code directly. However, K. Jerath implemented the same method in **[1](https://www.mathworks.com/matlabcentral/fileexchange/64590-allan-variance-analysis-of-simulated-sensor-noise)**.\n",
        "\n",
        "The drawback of this model is that correlation time is not explicitly used. However, the model consistently yields a PSD with the correct characteristics and can be used to accurately determine the bias instability coefficient from an Allan deviation plot. \n",
        "\n",
        "## Aceinna Model\n",
        "This model is an implementation of First Order Gauss-Markov model (discussed above). The exact equation used is derived in Section 3.2 of [Quinchia, et. al](https://www.ncbi.nlm.nih.gov/pmc/articles/PMC3812568/).\n",
        "\n",
        "This model computes a discrete bias instability time series according to:\n",
        "\n",
        "$x_{k} = (1-\\beta\\Delta t)x_{k-1} + \\sigma_{GM}\\sqrt{(1-e^{\\frac{-2\\Delta t}{T_{c}}})}w_{k}$\n",
        "\n",
        "We can rewrite this equation as:\n",
        "\n",
        "$x_{k}=(1-\\frac{1}{T_{c}}\\frac{1}{f_{s}})x_{k-1} + B \\sqrt{(1-e^{\\frac{-2}{f_{s}T_{c}}})}w_{k}$\n",
        "\n",
        "Then, it is natural to provide a bias coefficient $B$, a correlation time $T_{c}$, and sampling frequency $f_{s}$ to compute our bias instability time series. \n",
        "\n",
        "Note that $w{k}$ are samples from a standard normal distribution.\n",
        "\n",
        "The Acienna model is explicitly implemented for 3 axis. We will have to be aware of this fact in the experiments below.\n",
        "\n",
        "---\n",
        "\n",
        "# References\n",
        "\n",
        "**[1]**  Kshitij Jerath (2021). Allan variance analysis of simulated sensor noise (https://www.mathworks.com/matlabcentral/fileexchange/64590-allan-variance-analysis-of-simulated-sensor-noise), MATLAB Central File Exchange. Retrieved July 27, 2021. "
      ]
    },
    {
      "cell_type": "markdown",
      "metadata": {
        "id": "4nZGnUxOQ6jA"
      },
      "source": [
        "# Imports"
      ]
    },
    {
      "cell_type": "code",
      "metadata": {
        "id": "lr9_6DBR2O3-"
      },
      "source": [
        "# Clone Allan Online repo to notebook directory\n",
        "!git clone https://github.com/nurriol2/allan-online.git\n",
        "\n",
        "# Clone GNSS INS Simulation repo to notebook directory \n",
        "!git clone https://github.com/Aceinna/gnss-ins-sim.git\n",
        "\n",
        "from IPython.display import clear_output\n",
        "clear_output()"
      ],
      "execution_count": 3,
      "outputs": []
    },
    {
      "cell_type": "code",
      "metadata": {
        "id": "1t08LWrR4Dqk"
      },
      "source": [
        "# Make Allan Online files `import`-able\n",
        "allan_online_dir = \"./allan-online\"\n",
        "sys.path.append(os.path.abspath(allan_online_dir))\n",
        "\n",
        "# Make Aceinna GNSS INS Simulation files `import`-able\n",
        "aceinna_pathgen_dir = \"./gnss-ins-sim/gnss_ins_sim/pathgen\" # Only need `gnss-ins-sim/gnss_ins_sim/pathgen/pathgen.py`\n",
        "sys.path.append(os.path.abspath(aceinna_pathgen_dir))\n",
        "\n",
        "\n",
        "# Standard imports\n",
        "import matplotlib.pyplot as plt\n",
        "import numpy as np\n",
        "from scipy.signal import welch\n",
        "import sys\n",
        "import os\n",
        "\n",
        "\n",
        "# Function for calculating the overlapping Allan deviation of a time series\n",
        "from allan_variance import overlapping_allan_deviation\n",
        "# First Order Markov model for bias instability\n",
        "from noise_synthesis import make_bias_instability_series as first_order_markov\n",
        "# MATLAB Model - Shaping white noise with a filter\n",
        "from noise_synthesis import simulate_flicker_noise as matlab_model\n",
        "# Acienna bias instability model\n",
        "from pathgen import bias_drift as aceinna_model"
      ],
      "execution_count": 8,
      "outputs": []
    },
    {
      "cell_type": "code",
      "metadata": {
        "id": "qT_Kkswm-ip1"
      },
      "source": [
        ""
      ],
      "execution_count": null,
      "outputs": []
    }
  ]
}