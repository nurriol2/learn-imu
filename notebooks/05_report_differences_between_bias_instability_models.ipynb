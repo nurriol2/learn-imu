{
  "nbformat": 4,
  "nbformat_minor": 0,
  "metadata": {
    "colab": {
      "name": "05_report_differences_between_bias_instability_models.ipynb",
      "provenance": [],
      "collapsed_sections": []
    },
    "kernelspec": {
      "name": "python3",
      "display_name": "Python 3"
    },
    "language_info": {
      "name": "python"
    }
  },
  "cells": [
    {
      "cell_type": "markdown",
      "metadata": {
        "id": "DOkAje1l5v4Q"
      },
      "source": [
        "# Differences Between Bias Instability Models\n",
        "\n",
        "**Goal:  Determine which bias instability model best simulates bias instability.** \n",
        "\n",
        "We are interested in comparing three different models:\n",
        "- First Order Markov \n",
        "- MATLAB Model (or Filter Model)\n",
        "- Aceinna Model\n",
        "\n",
        "## First Order Markov\n",
        "We first saw the first order markov model in K. Jerath's Presentation *Noise Modeling of Sensors:  The Allan Variance Method*.\n",
        "\n",
        "Each point $b$ in the simulated time series is calculated from an initial conditon $b_{0}$ according to $\\dot{b} = -\\frac{b}{T_{c}}+\\eta_{b}$. \n",
        "\n",
        "The appeal of the first order markov model is that **correlation time $T_{c}$** is explicitly defined in the model.\n",
        "\n",
        "## MATALB Model (or Filter Model)\n",
        "MATLAB implements bias instability through its `imuSensor` object. This model filters a white noise time series into 1/f noise - also known as bias instability.\n",
        "\n",
        "MATLAB is closed source, so it's not possible (right now) to inspect the code directly. However, K. Jerath implemented the same method in **[1](https://www.mathworks.com/matlabcentral/fileexchange/64590-allan-variance-analysis-of-simulated-sensor-noise)**.\n",
        "\n",
        "The drawback of this model is that correlation time is not explicitly used. However, the model consistently yields a PSD with the correct characteristics and can be used to accurately determine the bias instability coefficient from an Allan deviation plot. \n",
        "\n",
        "## Aceinna Model\n",
        "This model is an implementation of First Order Gauss-Markov model (discussed above). The exact equation used is derived in Section 3.2 of [Quinchia, et. al](https://www.ncbi.nlm.nih.gov/pmc/articles/PMC3812568/).\n",
        "\n",
        "This model computes a discrete bias instability time series according to:\n",
        "\n",
        "$x_{k} = (1-\\beta\\Delta t)x_{k-1} + \\sigma_{GM}\\sqrt{(1-e^{\\frac{-2\\Delta t}{T_{c}}})}w_{k}$\n",
        "\n",
        "We can rewrite this equation as:\n",
        "\n",
        "$x_{k}=(1-\\frac{1}{T_{c}}\\frac{1}{f_{s}})x_{k-1} + B \\sqrt{(1-e^{\\frac{-2}{f_{s}T_{c}}})}w_{k}$\n",
        "\n",
        "Then, it is natural to provide a bias coefficient $B$, a correlation time $T_{c}$, and sampling frequency $f_{s}$ to compute our bias instability time series. \n",
        "\n",
        "Note that $w{k}$ are samples from a standard normal distribution.\n",
        "\n",
        "\n",
        "---\n",
        "\n",
        "# References\n",
        "\n",
        "**[1]**  Kshitij Jerath (2021). Allan variance analysis of simulated sensor noise (https://www.mathworks.com/matlabcentral/fileexchange/64590-allan-variance-analysis-of-simulated-sensor-noise), MATLAB Central File Exchange. Retrieved July 27, 2021. "
      ]
    },
    {
      "cell_type": "markdown",
      "metadata": {
        "id": "4nZGnUxOQ6jA"
      },
      "source": [
        "# Imports"
      ]
    },
    {
      "cell_type": "code",
      "metadata": {
        "id": "lr9_6DBR2O3-"
      },
      "source": [
        "# Clone Allan Online repo to notebook directory\n",
        "!git clone https://github.com/nurriol2/allan-online.git\n",
        "\n",
        "# Clone GNSS INS Simulation repo to notebook directory \n",
        "!git clone https://github.com/Aceinna/gnss-ins-sim.git\n",
        "\n",
        "from IPython.display import clear_output\n",
        "clear_output()"
      ],
      "execution_count": 1,
      "outputs": []
    },
    {
      "cell_type": "code",
      "metadata": {
        "id": "1t08LWrR4Dqk"
      },
      "source": [
        "import sys\n",
        "import os\n",
        "\n",
        "# Make Allan Online files `import`-able\n",
        "allan_online_dir = \"./allan-online\"\n",
        "sys.path.append(os.path.abspath(allan_online_dir))\n",
        "\n",
        "# Make Aceinna GNSS INS Simulation files `import`-able\n",
        "aceinna_pathgen_dir = \"./gnss-ins-sim/\" # Only need `gnss-ins-sim/gnss_ins_sim/pathgen/pathgen.py`\n",
        "sys.path.append(os.path.abspath(aceinna_pathgen_dir))\n",
        "\n",
        "\n",
        "# Standard imports\n",
        "import matplotlib.pyplot as plt\n",
        "import numpy as np\n",
        "from scipy.signal import welch\n",
        "\n",
        "\n",
        "\n",
        "# Function for calculating the overlapping Allan deviation of a time series\n",
        "from allan_variance import overlapping_allan_deviation\n",
        "# First Order Markov model for bias instability\n",
        "from noise_synthesis import make_bias_instability_series as first_order_markov\n",
        "# MATLAB Model - Shaping white noise with a filter\n",
        "from noise_synthesis import simulate_flicker_noise as matlab_model\n",
        "# Acienna bias instability model\n",
        "from gnss_ins_sim.pathgen.pathgen import bias_drift"
      ],
      "execution_count": 2,
      "outputs": []
    },
    {
      "cell_type": "markdown",
      "metadata": {
        "id": "9GvkHJz3nIRx"
      },
      "source": [
        "## Convenience Alias\n",
        "The Acienna model is explicitly implemented for all 3 axes. Conversely, the other models are only single axis.\n",
        "\n",
        "Below we define an alias for `bias_drift` from Aceinna called `aceinna_model`that runs the same code as `bias_drift` but returns sensor bias drift for only a single axis."
      ]
    },
    {
      "cell_type": "code",
      "metadata": {
        "id": "zO9PelPRkuIr"
      },
      "source": [
        "def aceinna_model(corr_time, drift, n, fs):\n",
        "    \"\"\"Reduce the dimension of the Aceinna model by selecting only 1\n",
        "    of the 3 returned sensor bias drift series. Alias of `bias_drift`.\n",
        "\n",
        "    Bias drift (instability) model for accelerometers or gyroscope.\n",
        "    If correlation time is valid (positive and finite), a first-order Gauss-Markov model is used.\n",
        "    Otherwise, a simple normal distribution model is used.\n",
        "    Args:\n",
        "        corr_time: 3x1 correlation time, sec.\n",
        "        drift: 3x1 bias drift std, rad/s.\n",
        "        n: total data count\n",
        "        fs: sample frequency, Hz.\n",
        "    Returns\n",
        "        sensor_bias_drift: drift of sensor bias\n",
        "    \"\"\"\n",
        "    return bias_drift([corr_time for i in range(3)], [drift for i in range(3)], n, fs)[:, 0]"
      ],
      "execution_count": 3,
      "outputs": []
    },
    {
      "cell_type": "code",
      "metadata": {
        "id": "tVxhMZdd4inC"
      },
      "source": [
        "# Constant paramaters shared between each of the models\n",
        "SAMPLING_RATE = 100 # Hertz\n",
        "SIM_TIME = 10000 # Seconds\n",
        "NUM_POINTS = SAMPLING_RATE*SIM_TIME\n",
        "CORRELATION_TIME = 1000 # T_{c}\n",
        "BI_COEFF = 0.01\n",
        "TRUNCATION  = 5000 # Number of coefficients for the IIR Filter"
      ],
      "execution_count": 4,
      "outputs": []
    },
    {
      "cell_type": "code",
      "metadata": {
        "id": "6Hx08CFEpHOV"
      },
      "source": [
        "class BiasInstabilityModel:\n",
        "\n",
        "    def __init__(self, name, simulator, *args):\n",
        "        self.name = name\n",
        "        self.simulator = simulator\n",
        "        self.noise_amplitudes = self._set_noise_amplitudes(*args)\n",
        "        return\n",
        "\n",
        "    def _set_noise_amplitudes(self, params):\n",
        "        \"\"\"Compute the noise amplitudes for each time step given a list of\n",
        "        input parameters for the simulator function\n",
        "        \"\"\"\n",
        "        return self.simulator(*params)\n",
        "\n",
        "    def compute_psd(self, fs):\n",
        "        \"\"\"Use Welch's method to compute the power spectral density of the model\n",
        "        \"\"\"\n",
        "        freq, pxx = welch(self.noise_amplitudes, fs)\n",
        "        return (freq, pxx)\n",
        "\n",
        "    def plot_psd(self, fs):\n",
        "        \"\"\"Plot the power spectral density of the current model\n",
        "        \"\"\"\n",
        "        freq, pxx = self.compute_psd(fs)\n",
        "        plt.loglog(freq, pxx)\n",
        "        \n",
        "        plt.xlabel(\"Frequency (HZ)\")\n",
        "        plt.ylabel(\"Power Density\")\n",
        "\n",
        "        plt.title(f\"Power Spectral Density - {self.name}\")\n",
        "\n",
        "        plt.show()\n",
        "        return \n",
        "\n",
        "    def compute_oadev(self, fs):\n",
        "        \"\"\"Calculate the overlapping Allan deviation of the current model\n",
        "        \"\"\"\n",
        "        tau, allan = overlapping_allan_deviation(self.noise_amplitudes, fs)\n",
        "        return (tau, allan)\n",
        "\n",
        "    def plot_oadev(self, fs):\n",
        "        \"\"\"Plot the overlapping Allan deviation of the current model\n",
        "        \"\"\"\n",
        "        tau, allan = self.compute_oadev(fs)\n",
        "\n",
        "        plt.loglog(tau, allan)\n",
        "\n",
        "        plt.xlabel(\"Averaging Time \\u03C4 (sec)\")\n",
        "        plt.ylabel(\"Computed Allan Deviation \\u03C3(\\u03C4)\")\n",
        "        plt.title(f\"Allan Deviation - {self.name}\")\n",
        "\n",
        "        return \n",
        " "
      ],
      "execution_count": 5,
      "outputs": []
    },
    {
      "cell_type": "code",
      "metadata": {
        "id": "pmcBFX1xyvXN"
      },
      "source": [
        "# Different model simulators require different input parameters\n",
        "markov_params = [BI_COEFF, CORRELATION_TIME, SAMPLING_RATE, SIM_TIME]\n",
        "matlab_params = [BI_COEFF, SAMPLING_RATE, SIM_TIME, TRUNCATION]\n",
        "aceinna_params = [CORRELATION_TIME, BI_COEFF, NUM_POINTS, SAMPLING_RATE]"
      ],
      "execution_count": 6,
      "outputs": []
    },
    {
      "cell_type": "code",
      "metadata": {
        "id": "CKSwZYffAQjr"
      },
      "source": [
        "# Create multipe Bias Instability Models using different simulator functions\n",
        "markov = BiasInstabilityModel(\"First Order Markov\", first_order_markov, markov_params)\n",
        "matlab = BiasInstabilityModel(\"MATLAB/Filter Model\", matlab_model, matlab_params)\n",
        "aceinna = BiasInstabilityModel(\"Aceinna GM\", aceinna_model, aceinna_params)"
      ],
      "execution_count": 7,
      "outputs": []
    },
    {
      "cell_type": "code",
      "metadata": {
        "colab": {
          "base_uri": "https://localhost:8080/",
          "height": 295
        },
        "id": "paxJvKLDC93a",
        "outputId": "15921538-3476-4b4b-a532-552ed4a1e92a"
      },
      "source": [
        "models = [markov, matlab, aceinna]\n",
        "for model in models:\n",
        "    time_stamps = np.arange(0, SIM_TIME, 1/SAMPLING_RATE)\n",
        "    plt.plot(time_stamps, model.noise_amplitudes, label=model.name)\n",
        "\n",
        "plt.legend(loc=\"lower right\")\n",
        "\n",
        "plt.xlabel(\"Time (s)\")\n",
        "plt.ylabel(\"Noise Amplitude\")\n",
        "plt.title(\"Noise Amplitudes for Multiple Bias Instability Models\")\n",
        "plt.grid(b=True)"
      ],
      "execution_count": 8,
      "outputs": [
        {
          "output_type": "display_data",
          "data": {
            "image/png": "[encoded data removed]",
            "text/plain": [
              "<Figure size 432x288 with 1 Axes>"
            ]
          },
          "metadata": {
            "tags": [],
            "needs_background": "light"
          }
        }
      ]
    },
    {
      "cell_type": "code",
      "metadata": {
        "id": "AuQ2LvhiD2uq"
      },
      "source": [
        ""
      ],
      "execution_count": 8,
      "outputs": []
    }
  ]
}